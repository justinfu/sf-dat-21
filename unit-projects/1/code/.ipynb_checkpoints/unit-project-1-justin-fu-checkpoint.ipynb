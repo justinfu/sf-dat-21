{
 "cells": [
  {
   "cell_type": "markdown",
   "metadata": {},
   "source": [
    "# SF-DAT-21 | Unit Project 1\n",
    "In this first unit project you will create a framework to scope out data science projects.  This framework will provide you with a guide to develop a well-articulated problem statement and analysis plan that will be robust and reproducible."
   ]
  },
  {
   "cell_type": "markdown",
   "metadata": {},
   "source": [
    "### Read and evaluate the following problem statement:\n",
    "Determine which free-tier customers will covert to paying customers, using demographic data collected at signup (age, gender, location, and profession) and customer useage data (days since last log in, and `activity score 1 = active user`, `0 = inactive user`) based on Hooli data from January - April 2015."
   ]
  },
  {
   "cell_type": "markdown",
   "metadata": {},
   "source": [
    "#### 1. What is the outcome?"
   ]
  },
  {
   "cell_type": "markdown",
   "metadata": {},
   "source": [
    "Answer:"
   ]
  },
  {
   "cell_type": "markdown",
   "metadata": {},
   "source": [
    "#### 2. What are the predictors/covariates?"
   ]
  },
  {
   "cell_type": "markdown",
   "metadata": {},
   "source": [
    "Answer:"
   ]
  },
  {
   "cell_type": "markdown",
   "metadata": {},
   "source": [
    "#### 3. What timeframe is this data relevent for?"
   ]
  },
  {
   "cell_type": "markdown",
   "metadata": {},
   "source": [
    "Answer:"
   ]
  },
  {
   "cell_type": "markdown",
   "metadata": {},
   "source": [
    "#### 4. What is the hypothesis?"
   ]
  },
  {
   "cell_type": "markdown",
   "metadata": {},
   "source": [
    "Answer:"
   ]
  },
  {
   "cell_type": "markdown",
   "metadata": {},
   "source": [
    "## Let's get started with our dataset"
   ]
  },
  {
   "cell_type": "code",
   "execution_count": 12,
   "metadata": {
    "collapsed": false
   },
   "outputs": [],
   "source": [
    "import os\n",
    "import numpy as np\n",
    "import pandas as pd\n",
    "\n",
    "# If you checked-out the GitHub repository, the UCLA dataset is under ../../dataset/admissions.csv (relative to this file)\n",
    "path = os.path.join('..', '..', 'dataset', 'admissions.csv')\n",
    "\n",
    "\"\"\"\"\"\n",
    "# Alternative: Get the dataset directly online...\n",
    "path = 'http://github.com/ga-students/sf-dat-21/raw/master/unit-projects/dataset/admissions.csv'\n",
    "\"\"\"\"\"\n",
    "\n",
    "df = pd.read_csv(path)"
   ]
  },
  {
   "cell_type": "markdown",
   "metadata": {},
   "source": [
    "#### 1. Create a data dictionary."
   ]
  },
  {
   "cell_type": "markdown",
   "metadata": {},
   "source": [
    "Answer: (Use the template below)\n",
    "\n",
    "Variable | Description | Type of Variable\n",
    "---|---|---\n",
    "Admit | 0 = Not Admitted, 1 = Admitted | Categorical/Binary/Boolean\n",
    "GRE | GRE Admission Test Score Typically 200-800 | Discrete (integral values only)\n",
    "GPA | High School Grade Point Average | Continuous \n",
    "Prestige | High School Prestige 1 = Best, 2 = Good, 3 = Bad, 4 = Worst| Discrete (enum, 1,2,3,4, NaN)"
   ]
  },
  {
   "cell_type": "markdown",
   "metadata": {},
   "source": [
    "We would like to explore the association between a) Admit and b) GRE, GPA, and Prestige (`f(GRE, GPA, Prestiage) = Admit)`"
   ]
  },
  {
   "cell_type": "markdown",
   "metadata": {},
   "source": [
    "#### 2. What is the outcome?"
   ]
  },
  {
   "cell_type": "markdown",
   "metadata": {},
   "source": [
    "Answer: Admit"
   ]
  },
  {
   "cell_type": "markdown",
   "metadata": {},
   "source": [
    "#### 3. What are the predictors/covariates?"
   ]
  },
  {
   "cell_type": "markdown",
   "metadata": {},
   "source": [
    "Answer: GRE, GPA, Prestige"
   ]
  },
  {
   "cell_type": "markdown",
   "metadata": {},
   "source": [
    "#### 4. What timeframe is this data relevent for?"
   ]
  },
  {
   "cell_type": "markdown",
   "metadata": {},
   "source": [
    "Answer: I do not see any timestamps here, so I will assume this is 400 applications for the Fall 2016 UCLA Class.  This makes the dataset cross-sectional and only relevant for a point in-time check (not longitudinal, no sense of exposure/outcome, only corelation)"
   ]
  },
  {
   "cell_type": "markdown",
   "metadata": {},
   "source": [
    "#### 4. What is the hypothesis?"
   ]
  },
  {
   "cell_type": "markdown",
   "metadata": {},
   "source": [
    "Answer: Students with higher GRE, higher GPA, lower (closer to 1) prestiage are more likely to have `admit == 1`.  (i.e., probability of admit = 1 greater with higher GRE, higher GPA, lower prestiage)"
   ]
  },
  {
   "cell_type": "markdown",
   "metadata": {},
   "source": [
    "## Problem Statement"
   ]
  },
  {
   "cell_type": "markdown",
   "metadata": {},
   "source": [
    "Using the above information, write a well-formed problem statement."
   ]
  },
  {
   "cell_type": "markdown",
   "metadata": {},
   "source": [
    "Answer: \n",
    "Determine which UCLA applications are more likely to yield admission (`admit = 1`), using applicant information (GRE, GPA, High School Prestige) based on 400 UCLA applicants' data for the (assuming) Fall 2016 undergraduate class."
   ]
  },
  {
   "cell_type": "markdown",
   "metadata": {},
   "source": [
    "### Exploratory Analysis Plan"
   ]
  },
  {
   "cell_type": "markdown",
   "metadata": {},
   "source": [
    "Using the lab from a class as a guide, create an exploratory analysis plan."
   ]
  },
  {
   "cell_type": "markdown",
   "metadata": {},
   "source": [
    "#### 1. What are the goals of the exploratory analysis?"
   ]
  },
  {
   "cell_type": "markdown",
   "metadata": {
    "collapsed": true
   },
   "source": [
    "Answer:  \n",
    "Check the categorical outcome variable `admit` can be correlated with `GRE`, `GPA`, `Prestiage`, or any combination/transformation of the three predictors/covariates.  As able, normalize `GPA` based on `Prestiage` (should GPA be transformed (boosted) for \"better\" `Prestige`)\n"
   ]
  },
  {
   "cell_type": "markdown",
   "metadata": {},
   "source": [
    "#### 2a. What are the assumptions of the distribution of data?"
   ]
  },
  {
   "cell_type": "markdown",
   "metadata": {},
   "source": [
    "Answer: \n",
    "\n",
    "`admit` is a categorial/binary variable always `0` (rejected) or `1`(accepted).   Wait listed students are excluded.  It is assumed that their decisions have been made final at time of data collection (rejected or accepted).\n",
    "\n",
    "`gre` is a variable between 200 and 800, integral values only (min 220, max 800 in dataset)\n",
    "\n",
    "`gpa` is a continuous variable between 2 and 4.  (min 2.26, max 4 in dataset)\n",
    "\n",
    "`prestiage` is a discrete varible between 1 and 4.  Assuming 1 is best 4 is worst."
   ]
  },
  {
   "cell_type": "code",
   "execution_count": 34,
   "metadata": {
    "collapsed": false
   },
   "outputs": [
    {
     "name": "stdout",
     "output_type": "stream",
     "text": [
      "admit\n",
      "admit    0\n",
      "dtype: int64 admit    1\n",
      "dtype: int64\n",
      "gre\n",
      "gre    220\n",
      "dtype: float64 gre    800\n",
      "dtype: float64\n",
      "gpa\n",
      "gpa    2.26\n",
      "dtype: float64 gpa    4\n",
      "dtype: float64\n",
      "prestige\n",
      "prestige    1\n",
      "dtype: float64 prestige    4\n",
      "dtype: float64\n"
     ]
    }
   ],
   "source": [
    "#Scratch Work:\n",
    "df = pd.read_csv(path)\n",
    "for col in df.columns:\n",
    "    print col \n",
    "    print df[[col]].min(),\n",
    "    print df[[col]].max()\n"
   ]
  },
  {
   "cell_type": "markdown",
   "metadata": {},
   "source": [
    "#### 2b. How will determine the distribution of your data?"
   ]
  },
  {
   "cell_type": "markdown",
   "metadata": {
    "collapsed": true
   },
   "source": [
    "Answer:  Check min and max of each, check uniques of categorical variables, remove `NaN` with `.notnull()`, if transforming `gpa` based on prestige slice out diff prestige levels, multiply gpa by determined factor, recombine/concat back into one df."
   ]
  },
  {
   "cell_type": "markdown",
   "metadata": {},
   "source": [
    "#### 3a. How might outliers impact your analysis?"
   ]
  },
  {
   "cell_type": "markdown",
   "metadata": {
    "collapsed": true
   },
   "source": [
    "Answer:  With a small sample set of 400 records, one extreme in a small bucket could inflate/deflate the actual correlation/impact of one predictor.  For exmaple, one very qualified candidate from a lower prestige school could inflate the performance of low prestiage schools.  "
   ]
  },
  {
   "cell_type": "markdown",
   "metadata": {},
   "source": [
    "#### 3b. How will you test for outliers?"
   ]
  },
  {
   "cell_type": "markdown",
   "metadata": {},
   "source": [
    "Answer: plot histogram of each columns values (overall, segmented by `admit = {0,1}`n and/or different prestige levels)"
   ]
  },
  {
   "cell_type": "markdown",
   "metadata": {},
   "source": [
    "#### 4a. What is colinearity?"
   ]
  },
  {
   "cell_type": "markdown",
   "metadata": {
    "collapsed": true
   },
   "source": [
    "Answer:"
   ]
  },
  {
   "cell_type": "markdown",
   "metadata": {},
   "source": [
    "#### 4b. How will you test for colinearity?"
   ]
  },
  {
   "cell_type": "markdown",
   "metadata": {},
   "source": [
    "Answer:"
   ]
  },
  {
   "cell_type": "markdown",
   "metadata": {},
   "source": [
    "#### 5. What is your exploratory analysis plan?\n",
    "Using the above information, write an exploratory analysis plan that would allow you or a colleague to reproduce your analysis 1 year from now."
   ]
  },
  {
   "cell_type": "markdown",
   "metadata": {},
   "source": [
    "Answer:\n",
    "1.  Create dataframe with same csv file for this specific time period.\n",
    "2.  Remove nulls by slicing out with `.notnull()`\n",
    "3.  Plot histogram of each columns values\n",
    "4.  Create scatter plot of admit ~ gre, admit ~ gpa, admit ~ prestige, and all other 1:1 pairing to check for unexpected relationships.\n",
    "5.  Create linear model with <insert standard pandas LM commands here>.  Evaluate based on R^2.\n",
    "6.  Plot ab trendline for linear model.  Add raw datapoints to visualize outliers."
   ]
  },
  {
   "cell_type": "markdown",
   "metadata": {},
   "source": [
    "## Bonus Questions:\n",
    "1. Outline your analysis method for predicting your outcome.\n",
    "create linear and logistic regression models to predict `admit` based on `gre`, `gpa`, and `prestige`.  \n",
    "\n",
    "2. Write an alternative problem statement for your dataset.\n",
    "\n",
    "3. Articulate the assumptions and risks of the alternative model."
   ]
  },
  {
   "cell_type": "code",
   "execution_count": null,
   "metadata": {
    "collapsed": true
   },
   "outputs": [],
   "source": []
  }
 ],
 "metadata": {
  "kernelspec": {
   "display_name": "Python 2",
   "language": "python",
   "name": "python2"
  },
  "language_info": {
   "codemirror_mode": {
    "name": "ipython",
    "version": 2
   },
   "file_extension": ".py",
   "mimetype": "text/x-python",
   "name": "python",
   "nbconvert_exporter": "python",
   "pygments_lexer": "ipython2",
   "version": "2.7.11"
  }
 },
 "nbformat": 4,
 "nbformat_minor": 0
}
